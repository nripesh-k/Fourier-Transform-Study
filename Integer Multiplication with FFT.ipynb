{
 "cells": [
  {
   "cell_type": "code",
   "execution_count": 1,
   "id": "3ef6635e",
   "metadata": {},
   "outputs": [],
   "source": [
    "import math as m\n",
    "import matplotlib.pyplot as plt\n",
    "import numpy as np\n",
    "\n",
    "%matplotlib inline"
   ]
  },
  {
   "cell_type": "code",
   "execution_count": 2,
   "id": "7b48631f",
   "metadata": {},
   "outputs": [],
   "source": [
    "def W(n,N):\n",
    "    return [m.cos(2*m.pi*n/N),m.sin(2*m.pi*n/N)]"
   ]
  },
  {
   "cell_type": "code",
   "execution_count": 3,
   "id": "28d38cd1",
   "metadata": {},
   "outputs": [],
   "source": [
    "def add(a,b):\n",
    "    x = a[0]+b[0]\n",
    "    y = a[1]+b[1]\n",
    "    return [x,y]\n",
    "\n",
    "def sub(a,b):\n",
    "    x = a[0]-b[0]\n",
    "    y = a[1]-b[1]\n",
    "    return [x,y]\n",
    "\n",
    "def mult(a,b):\n",
    "    x = a[0]*b[0]-a[1]*b[1]\n",
    "    y = a[0]*b[1]+a[1]*b[0]\n",
    "    return [x,y]"
   ]
  },
  {
   "cell_type": "code",
   "execution_count": 4,
   "id": "314af7f1",
   "metadata": {},
   "outputs": [],
   "source": [
    "def Signal(inp1,inp2):\n",
    "    a = []\n",
    "    b = []\n",
    "    a = list(str(inp1))\n",
    "    b = list(str(inp2))\n",
    "    for i in range(len(a)):\n",
    "        a[i] = [int(a[i]),0]\n",
    "    for i in range(len(b)):\n",
    "        b[i] = [int(b[i]),0]\n",
    "    for _ in range(len(b)-1):\n",
    "        a.append([0,0])\n",
    "    for _ in range(len(a)-len(b)):\n",
    "        b.append([0,0])\n",
    "    #padding\n",
    "    padding = int(1<<int(m.log2(len(a))+1))-len(a)\n",
    "    for i in range(padding):\n",
    "        a.append([0,0])\n",
    "        b.append([0,0])\n",
    "    return a,b,padding"
   ]
  },
  {
   "cell_type": "code",
   "execution_count": 5,
   "id": "228f6dd4",
   "metadata": {},
   "outputs": [],
   "source": [
    "def FFT(signal):  # the passed signal should be complex [x,y]\n",
    "    if len(signal)==2:\n",
    "        temp = signal[1] #mult(W(0,len(signal)),signal[1])\n",
    "        return [add(signal[0],temp),sub(signal[0],temp)]\n",
    "    else:\n",
    "        even = [signal[i] for i in range(0,len(signal),2)]\n",
    "        odd = [signal[i] for i in range(1,len(signal),2)]\n",
    "        e,o = FFT(even),FFT(odd)\n",
    "        transform = []\n",
    "        o = [mult(W(-i,len(signal)),o[i]) for i in [*range(len(o))]]\n",
    "        for i in range(len(signal)//2):\n",
    "            transform.append(add(e[i],o[i]))\n",
    "        for i in range(len(signal)//2):\n",
    "            transform.append(sub(e[i],o[i]))\n",
    "        return transform"
   ]
  },
  {
   "cell_type": "code",
   "execution_count": 6,
   "id": "5ec4de4b",
   "metadata": {},
   "outputs": [],
   "source": [
    "def karatsuba(x,y):\n",
    "    if x<10 or y<10:\n",
    "        return x*y\n",
    "    else:\n",
    "        n = max(len(str(x)),len(str(y)))\n",
    "        half = n//2\n",
    "        a = x//(10**half)\n",
    "        b = x%(10**half)\n",
    "        c = y//(10**half)\n",
    "        d = y%(10**half)\n",
    "        ac = karatsuba(a,c)\n",
    "        bd = karatsuba(b,d)\n",
    "        ac_plus_bd = karatsuba(a+b,c+d)-ac-bd\n",
    "        return ac*(10**(2*half))+ac_plus_bd*(10**half)+bd"
   ]
  },
  {
   "cell_type": "code",
   "execution_count": 7,
   "id": "9033d9cf",
   "metadata": {},
   "outputs": [],
   "source": [
    "def FFTmultiply(f,g):\n",
    "    f,g,padding = Signal(f,g)\n",
    "    F = FFT(f)\n",
    "    G = FFT(g)\n",
    "    \n",
    "    FxG = []\n",
    "    for i in range(len(F)):\n",
    "        FxG.append(mult(F[i],G[i]))\n",
    "    \n",
    "    f_g = FFT(FxG)\n",
    "    f_g.append(f_g.pop(0))\n",
    "    \n",
    "    sum = 0\n",
    "    for i in range(len(f_g)):\n",
    "        sum += int(f_g[i][0]*10**i)/10**padding\n",
    "    \n",
    "    return int(sum)//len(f_g)"
   ]
  },
  {
   "cell_type": "code",
   "execution_count": 8,
   "id": "19f04275",
   "metadata": {},
   "outputs": [],
   "source": [
    "def multiply(a,b):\n",
    "    a = str(a)[::-1]\n",
    "    b = str(b)[::-1]\n",
    "    sum = 0\n",
    "    for i,x in enumerate(a):\n",
    "        for j,y in enumerate(b):\n",
    "            sum += int(x)*int(y)*10**i*10**j\n",
    "    return sum"
   ]
  },
  {
   "cell_type": "code",
   "execution_count": 9,
   "id": "62479260",
   "metadata": {},
   "outputs": [
    {
     "name": "stdout",
     "output_type": "stream",
     "text": [
      "CPU times: user 6.55 ms, sys: 0 ns, total: 6.55 ms\n",
      "Wall time: 6.46 ms\n"
     ]
    },
    {
     "data": {
      "text/plain": [
       "48076266043390210071484935435213665103043245028169028724497894758308098793888271555800022328205895830413643880223549217978518547577856135390094915066801102991694571848679935683736007825223691456"
      ]
     },
     "execution_count": 9,
     "metadata": {},
     "output_type": "execute_result"
    }
   ],
   "source": [
    "%%time\n",
    "\n",
    "karatsuba(199384721198273849919938472119827384993841993847213847211982738438472119827387211982738438472119827384,241123119938472119819938411982738438472119827382738499384721198273842192893842411231219289384)\n"
   ]
  },
  {
   "cell_type": "code",
   "execution_count": 10,
   "id": "9b458c22",
   "metadata": {},
   "outputs": [
    {
     "name": "stdout",
     "output_type": "stream",
     "text": [
      "CPU times: user 15.2 ms, sys: 0 ns, total: 15.2 ms\n",
      "Wall time: 14.5 ms\n"
     ]
    },
    {
     "data": {
      "text/plain": [
       "48076266043388573486387020254084489829912201931951939606321105549472905427581425320729679119333190667070055666628234717107566464981964163548282857328268896420642568182067513733314763268999348224"
      ]
     },
     "execution_count": 10,
     "metadata": {},
     "output_type": "execute_result"
    }
   ],
   "source": [
    "%%time\n",
    "\n",
    "FFTmultiply(199384721198273849919938472119827384993841993847213847211982738438472119827387211982738438472119827384,241123119938472119819938411982738438472119827382738499384721198273842192893842411231219289384)\n"
   ]
  },
  {
   "cell_type": "code",
   "execution_count": 11,
   "id": "f606cc09",
   "metadata": {},
   "outputs": [
    {
     "name": "stdout",
     "output_type": "stream",
     "text": [
      "CPU times: user 30 ms, sys: 557 µs, total: 30.6 ms\n",
      "Wall time: 29.2 ms\n"
     ]
    },
    {
     "data": {
      "text/plain": [
       "48076266043390210071484935435213665103043245028169028724497894758308098793888271555800022328205895830413643880223549217978518547577856135390094915066801102991694571848679935683736007825223691456"
      ]
     },
     "execution_count": 11,
     "metadata": {},
     "output_type": "execute_result"
    }
   ],
   "source": [
    "%%time\n",
    "\n",
    "multiply(199384721198273849919938472119827384993841993847213847211982738438472119827387211982738438472119827384,241123119938472119819938411982738438472119827382738499384721198273842192893842411231219289384)\n"
   ]
  },
  {
   "cell_type": "code",
   "execution_count": 12,
   "id": "48eb58d3",
   "metadata": {},
   "outputs": [
    {
     "data": {
      "text/plain": [
       "150191400819264160118656212"
      ]
     },
     "execution_count": 12,
     "metadata": {},
     "output_type": "execute_result"
    }
   ],
   "source": [
    "1231198279124*121987987934913"
   ]
  },
  {
   "cell_type": "code",
   "execution_count": 13,
   "id": "16b6eb6f",
   "metadata": {},
   "outputs": [
    {
     "data": {
      "text/plain": [
       "150191400819257542837272576"
      ]
     },
     "execution_count": 13,
     "metadata": {},
     "output_type": "execute_result"
    }
   ],
   "source": [
    "FFTmultiply(1231198279124,121987987934913)"
   ]
  },
  {
   "cell_type": "code",
   "execution_count": 14,
   "id": "b0f67ec8",
   "metadata": {},
   "outputs": [],
   "source": [
    "def NPmultiply(f,g):\n",
    "\n",
    "    f,g,padding = Signal(f,g)\n",
    "    f = [x[0] for x in f[:-padding-1]]\n",
    "    g = [x[0] for x in g[:-padding-1]]\n",
    "    F = np.fft.fft(f)\n",
    "    G = np.fft.fft(f)\n",
    "    \n",
    "    FxG = F*G\n",
    "    \n",
    "    f_g = np.flip(np.fft.ifft(FxG).real)\n",
    "    sum = 0\n",
    "    for i in range(len(f_g)):\n",
    "        sum += f_g[i]*10**i\n",
    "    \n",
    "    return sum"
   ]
  },
  {
   "cell_type": "code",
   "execution_count": 15,
   "id": "4d6c6e77",
   "metadata": {},
   "outputs": [
    {
     "data": {
      "text/plain": [
       "18797505496.0"
      ]
     },
     "execution_count": 15,
     "metadata": {},
     "output_type": "execute_result"
    }
   ],
   "source": [
    "NPmultiply(11231231,1232)"
   ]
  },
  {
   "cell_type": "code",
   "execution_count": null,
   "id": "38f08656",
   "metadata": {},
   "outputs": [],
   "source": []
  }
 ],
 "metadata": {
  "kernelspec": {
   "display_name": "Python 3 (ipykernel)",
   "language": "python",
   "name": "python3"
  },
  "language_info": {
   "codemirror_mode": {
    "name": "ipython",
    "version": 3
   },
   "file_extension": ".py",
   "mimetype": "text/x-python",
   "name": "python",
   "nbconvert_exporter": "python",
   "pygments_lexer": "ipython3",
   "version": "3.10.6"
  }
 },
 "nbformat": 4,
 "nbformat_minor": 5
}
